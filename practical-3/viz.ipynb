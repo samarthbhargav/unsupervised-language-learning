{
 "cells": [
  {
   "cell_type": "code",
   "execution_count": 12,
   "metadata": {},
   "outputs": [],
   "source": [
    "import os\n",
    "import time\n",
    "import pickle\n",
    "import matplotlib\n",
    "\n",
    "import pandas as pd\n",
    "import numpy as np\n",
    "from pprint import pprint\n",
    "import matplotlib.pyplot as plt\n",
    "from collections import defaultdict\n",
    "\n",
    "%matplotlib inline\n",
    "plt.rcParams['figure.figsize'] = [16, 12]"
   ]
  },
  {
   "cell_type": "code",
   "execution_count": 13,
   "metadata": {},
   "outputs": [],
   "source": [
    "with open('results/skipgram.pkl', 'rb') as f:\n",
    "    model = pickle.load(f)"
   ]
  },
  {
   "cell_type": "code",
   "execution_count": 3,
   "metadata": {},
   "outputs": [],
   "source": [
    "STS_dict = {}\n",
    "for item in model.keys():\n",
    "    if item.find(\"STS\") == 0 or item.find(\"Relatedness\") > 0:\n",
    "        STS_dict[item] = model[item].items()\n",
    "\n",
    "ClassificationTask_dict = {k : v for k, v in model.items() if k not in list(STS_dict.keys())}"
   ]
  },
  {
   "cell_type": "code",
   "execution_count": 4,
   "metadata": {},
   "outputs": [],
   "source": [
    "# plots\n",
    "ClassificationTask_df = pd.DataFrame(ClassificationTask_dict).T\n",
    "ClassificationTask_df = ClassificationTask_df.drop(columns = ['ndev', 'ntest'])"
   ]
  },
  {
   "cell_type": "code",
   "execution_count": 5,
   "metadata": {},
   "outputs": [
    {
     "data": {
      "text/html": [
       "<div>\n",
       "<style scoped>\n",
       "    .dataframe tbody tr th:only-of-type {\n",
       "        vertical-align: middle;\n",
       "    }\n",
       "\n",
       "    .dataframe tbody tr th {\n",
       "        vertical-align: top;\n",
       "    }\n",
       "\n",
       "    .dataframe thead th {\n",
       "        text-align: right;\n",
       "    }\n",
       "</style>\n",
       "<table border=\"1\" class=\"dataframe\">\n",
       "  <thead>\n",
       "    <tr style=\"text-align: right;\">\n",
       "      <th></th>\n",
       "      <th>acc</th>\n",
       "      <th>devacc</th>\n",
       "      <th>f1</th>\n",
       "    </tr>\n",
       "  </thead>\n",
       "  <tbody>\n",
       "    <tr>\n",
       "      <th>CR</th>\n",
       "      <td>63.76</td>\n",
       "      <td>63.76</td>\n",
       "      <td>NaN</td>\n",
       "    </tr>\n",
       "    <tr>\n",
       "      <th>MPQA</th>\n",
       "      <td>68.77</td>\n",
       "      <td>68.77</td>\n",
       "      <td>NaN</td>\n",
       "    </tr>\n",
       "    <tr>\n",
       "      <th>MR</th>\n",
       "      <td>54.92</td>\n",
       "      <td>55.16</td>\n",
       "      <td>NaN</td>\n",
       "    </tr>\n",
       "    <tr>\n",
       "      <th>MRPC</th>\n",
       "      <td>66.49</td>\n",
       "      <td>67.54</td>\n",
       "      <td>79.87</td>\n",
       "    </tr>\n",
       "    <tr>\n",
       "      <th>SICKEntailment</th>\n",
       "      <td>56.69</td>\n",
       "      <td>56.40</td>\n",
       "      <td>NaN</td>\n",
       "    </tr>\n",
       "    <tr>\n",
       "      <th>SNLI</th>\n",
       "      <td>43.46</td>\n",
       "      <td>44.12</td>\n",
       "      <td>NaN</td>\n",
       "    </tr>\n",
       "    <tr>\n",
       "      <th>SST2</th>\n",
       "      <td>56.12</td>\n",
       "      <td>57.57</td>\n",
       "      <td>NaN</td>\n",
       "    </tr>\n",
       "    <tr>\n",
       "      <th>SST5</th>\n",
       "      <td>27.78</td>\n",
       "      <td>29.88</td>\n",
       "      <td>NaN</td>\n",
       "    </tr>\n",
       "    <tr>\n",
       "      <th>SUBJ</th>\n",
       "      <td>64.52</td>\n",
       "      <td>63.54</td>\n",
       "      <td>NaN</td>\n",
       "    </tr>\n",
       "    <tr>\n",
       "      <th>TREC</th>\n",
       "      <td>37.40</td>\n",
       "      <td>29.09</td>\n",
       "      <td>NaN</td>\n",
       "    </tr>\n",
       "  </tbody>\n",
       "</table>\n",
       "</div>"
      ],
      "text/plain": [
       "                  acc  devacc     f1\n",
       "CR              63.76   63.76    NaN\n",
       "MPQA            68.77   68.77    NaN\n",
       "MR              54.92   55.16    NaN\n",
       "MRPC            66.49   67.54  79.87\n",
       "SICKEntailment  56.69   56.40    NaN\n",
       "SNLI            43.46   44.12    NaN\n",
       "SST2            56.12   57.57    NaN\n",
       "SST5            27.78   29.88    NaN\n",
       "SUBJ            64.52   63.54    NaN\n",
       "TREC            37.40   29.09    NaN"
      ]
     },
     "execution_count": 5,
     "metadata": {},
     "output_type": "execute_result"
    }
   ],
   "source": [
    "ClassificationTask_df"
   ]
  },
  {
   "cell_type": "code",
   "execution_count": 14,
   "metadata": {},
   "outputs": [
    {
     "data": {
      "image/png": "[encoded data removed]",
      "text/plain": [
       "<Figure size 1152x864 with 1 Axes>"
      ]
     },
     "metadata": {},
     "output_type": "display_data"
    }
   ],
   "source": [
    "ClassificationTask_df.plot(kind=\"bar\")\n",
    "plt.show()"
   ]
  },
  {
   "cell_type": "code",
   "execution_count": 7,
   "metadata": {},
   "outputs": [
    {
     "data": {
      "text/html": [
       "<div>\n",
       "<style scoped>\n",
       "    .dataframe tbody tr th:only-of-type {\n",
       "        vertical-align: middle;\n",
       "    }\n",
       "\n",
       "    .dataframe tbody tr th {\n",
       "        vertical-align: top;\n",
       "    }\n",
       "\n",
       "    .dataframe thead th {\n",
       "        text-align: right;\n",
       "    }\n",
       "</style>\n",
       "<table border=\"1\" class=\"dataframe\">\n",
       "  <thead>\n",
       "    <tr style=\"text-align: right;\">\n",
       "      <th></th>\n",
       "      <th>0</th>\n",
       "      <th>1</th>\n",
       "      <th>2</th>\n",
       "      <th>3</th>\n",
       "      <th>4</th>\n",
       "      <th>5</th>\n",
       "      <th>6</th>\n",
       "    </tr>\n",
       "  </thead>\n",
       "  <tbody>\n",
       "    <tr>\n",
       "      <th>STS16</th>\n",
       "      <td>(all, {'pearson': {'wmean': 0.1480387449150121...</td>\n",
       "      <td>(answer-answer, {'pearson': (0.084138708745582...</td>\n",
       "      <td>(postediting, {'pearson': (0.40500321032197845...</td>\n",
       "      <td>(question-question, {'pearson': (-0.1526176253...</td>\n",
       "      <td>(headlines, {'pearson': (0.13552256001675, 0.0...</td>\n",
       "      <td>(plagiarism, {'pearson': (0.23275609732117994,...</td>\n",
       "      <td>None</td>\n",
       "    </tr>\n",
       "    <tr>\n",
       "      <th>STS14</th>\n",
       "      <td>(images, {'pearson': (-0.052712416389393564, 0...</td>\n",
       "      <td>(all, {'pearson': {'wmean': 0.0927097236988836...</td>\n",
       "      <td>(deft-news, {'pearson': (0.26136133277914747, ...</td>\n",
       "      <td>(OnWN, {'pearson': (0.01927996670499319, 0.598...</td>\n",
       "      <td>(deft-forum, {'pearson': (0.11031005048674669,...</td>\n",
       "      <td>(headlines, {'pearson': (0.04470565574862672, ...</td>\n",
       "      <td>(tweet-news, {'pearson': (0.28154484902648474,...</td>\n",
       "    </tr>\n",
       "    <tr>\n",
       "      <th>STS15</th>\n",
       "      <td>(answers-forums, {'pearson': (0.14705900938887...</td>\n",
       "      <td>(images, {'pearson': (0.01371332829443158, 0.7...</td>\n",
       "      <td>(all, {'pearson': {'wmean': 0.1800681063985169...</td>\n",
       "      <td>(answers-students, {'pearson': (0.359524173263...</td>\n",
       "      <td>(belief, {'pearson': (0.2289804045921258, 7.49...</td>\n",
       "      <td>(headlines, {'pearson': (0.15901521704553295, ...</td>\n",
       "      <td>None</td>\n",
       "    </tr>\n",
       "    <tr>\n",
       "      <th>STS13</th>\n",
       "      <td>(OnWN, {'pearson': (-0.1392082108093068, 0.000...</td>\n",
       "      <td>(headlines, {'pearson': (0.05973011827205376, ...</td>\n",
       "      <td>(all, {'pearson': {'wmean': -0.016688541470326...</td>\n",
       "      <td>(FNWN, {'pearson': (0.04373230346291616, 0.550...</td>\n",
       "      <td>None</td>\n",
       "      <td>None</td>\n",
       "      <td>None</td>\n",
       "    </tr>\n",
       "    <tr>\n",
       "      <th>SICKRelatedness</th>\n",
       "      <td>(ndev, 500)</td>\n",
       "      <td>(devpearson, 0.2916455885164525)</td>\n",
       "      <td>(spearman, 0.2644425899401471)</td>\n",
       "      <td>(pearson, 0.2924476178166739)</td>\n",
       "      <td>(yhat, [3.326737202703953, 3.6845136657357216,...</td>\n",
       "      <td>(ntest, 4927)</td>\n",
       "      <td>(mse, 0.9485637616518879)</td>\n",
       "    </tr>\n",
       "    <tr>\n",
       "      <th>STSBenchmark</th>\n",
       "      <td>(ndev, 1500)</td>\n",
       "      <td>(devpearson, 0.1704826571954924)</td>\n",
       "      <td>(spearman, 0.0433531480899321)</td>\n",
       "      <td>(pearson, 0.0269230014667951)</td>\n",
       "      <td>(yhat, [2.9520831629633904, 3.1042406111955643...</td>\n",
       "      <td>(ntest, 1379)</td>\n",
       "      <td>(mse, 2.5088258214651264)</td>\n",
       "    </tr>\n",
       "    <tr>\n",
       "      <th>STS12</th>\n",
       "      <td>(MSRvid, {'pearson': (-0.24319744949403818, 1....</td>\n",
       "      <td>(all, {'pearson': {'wmean': 0.0731526746865409...</td>\n",
       "      <td>(SMTeuroparl, {'pearson': (0.06948651595270236...</td>\n",
       "      <td>(surprise.SMTnews, {'pearson': (0.256344379538...</td>\n",
       "      <td>(surprise.OnWN, {'pearson': (0.286101758527897...</td>\n",
       "      <td>(MSRpar, {'pearson': (0.0813394171898822, 0.02...</td>\n",
       "      <td>None</td>\n",
       "    </tr>\n",
       "  </tbody>\n",
       "</table>\n",
       "</div>"
      ],
      "text/plain": [
       "                                                                 0  \\\n",
       "STS16            (all, {'pearson': {'wmean': 0.1480387449150121...   \n",
       "STS14            (images, {'pearson': (-0.052712416389393564, 0...   \n",
       "STS15            (answers-forums, {'pearson': (0.14705900938887...   \n",
       "STS13            (OnWN, {'pearson': (-0.1392082108093068, 0.000...   \n",
       "SICKRelatedness                                        (ndev, 500)   \n",
       "STSBenchmark                                          (ndev, 1500)   \n",
       "STS12            (MSRvid, {'pearson': (-0.24319744949403818, 1....   \n",
       "\n",
       "                                                                 1  \\\n",
       "STS16            (answer-answer, {'pearson': (0.084138708745582...   \n",
       "STS14            (all, {'pearson': {'wmean': 0.0927097236988836...   \n",
       "STS15            (images, {'pearson': (0.01371332829443158, 0.7...   \n",
       "STS13            (headlines, {'pearson': (0.05973011827205376, ...   \n",
       "SICKRelatedness                   (devpearson, 0.2916455885164525)   \n",
       "STSBenchmark                      (devpearson, 0.1704826571954924)   \n",
       "STS12            (all, {'pearson': {'wmean': 0.0731526746865409...   \n",
       "\n",
       "                                                                 2  \\\n",
       "STS16            (postediting, {'pearson': (0.40500321032197845...   \n",
       "STS14            (deft-news, {'pearson': (0.26136133277914747, ...   \n",
       "STS15            (all, {'pearson': {'wmean': 0.1800681063985169...   \n",
       "STS13            (all, {'pearson': {'wmean': -0.016688541470326...   \n",
       "SICKRelatedness                     (spearman, 0.2644425899401471)   \n",
       "STSBenchmark                        (spearman, 0.0433531480899321)   \n",
       "STS12            (SMTeuroparl, {'pearson': (0.06948651595270236...   \n",
       "\n",
       "                                                                 3  \\\n",
       "STS16            (question-question, {'pearson': (-0.1526176253...   \n",
       "STS14            (OnWN, {'pearson': (0.01927996670499319, 0.598...   \n",
       "STS15            (answers-students, {'pearson': (0.359524173263...   \n",
       "STS13            (FNWN, {'pearson': (0.04373230346291616, 0.550...   \n",
       "SICKRelatedness                      (pearson, 0.2924476178166739)   \n",
       "STSBenchmark                         (pearson, 0.0269230014667951)   \n",
       "STS12            (surprise.SMTnews, {'pearson': (0.256344379538...   \n",
       "\n",
       "                                                                 4  \\\n",
       "STS16            (headlines, {'pearson': (0.13552256001675, 0.0...   \n",
       "STS14            (deft-forum, {'pearson': (0.11031005048674669,...   \n",
       "STS15            (belief, {'pearson': (0.2289804045921258, 7.49...   \n",
       "STS13                                                         None   \n",
       "SICKRelatedness  (yhat, [3.326737202703953, 3.6845136657357216,...   \n",
       "STSBenchmark     (yhat, [2.9520831629633904, 3.1042406111955643...   \n",
       "STS12            (surprise.OnWN, {'pearson': (0.286101758527897...   \n",
       "\n",
       "                                                                 5  \\\n",
       "STS16            (plagiarism, {'pearson': (0.23275609732117994,...   \n",
       "STS14            (headlines, {'pearson': (0.04470565574862672, ...   \n",
       "STS15            (headlines, {'pearson': (0.15901521704553295, ...   \n",
       "STS13                                                         None   \n",
       "SICKRelatedness                                      (ntest, 4927)   \n",
       "STSBenchmark                                         (ntest, 1379)   \n",
       "STS12            (MSRpar, {'pearson': (0.0813394171898822, 0.02...   \n",
       "\n",
       "                                                                 6  \n",
       "STS16                                                         None  \n",
       "STS14            (tweet-news, {'pearson': (0.28154484902648474,...  \n",
       "STS15                                                         None  \n",
       "STS13                                                         None  \n",
       "SICKRelatedness                          (mse, 0.9485637616518879)  \n",
       "STSBenchmark                             (mse, 2.5088258214651264)  \n",
       "STS12                                                         None  "
      ]
     },
     "execution_count": 7,
     "metadata": {},
     "output_type": "execute_result"
    }
   ],
   "source": [
    "# STS_df = pd.DataFrame(STS_dict['STS12'])\n",
    "pd.DataFrame.from_dict(STS_dict, orient='index')"
   ]
  },
  {
   "cell_type": "code",
   "execution_count": 8,
   "metadata": {},
   "outputs": [],
   "source": [
    "STS_updated_dict = {}"
   ]
  },
  {
   "cell_type": "code",
   "execution_count": 9,
   "metadata": {
    "scrolled": false
   },
   "outputs": [],
   "source": [
    "for key, value in STS_dict.items():\n",
    "    sum_ = 0.0\n",
    "    for sets in value:\n",
    "        if isinstance(sets[1], dict):\n",
    "            if isinstance(sets[1]['pearson'], dict):\n",
    "#                 print((key, (sets[1]['pearson']['mean'])))\n",
    "                STS_updated_dict[key] = sets[1]['pearson']['mean'] * 100\n",
    "        elif isinstance(sets[1], np.float64):\n",
    "            sum_ += sets[1]\n",
    "    avg = sum_*100/len(value) \n",
    "    if key not in STS_updated_dict.keys():\n",
    "        STS_updated_dict[key] = avg\n",
    "#     print(key, avg)"
   ]
  },
  {
   "cell_type": "code",
   "execution_count": 10,
   "metadata": {},
   "outputs": [
    {
     "data": {
      "text/plain": [
       "{'SICKRelatedness': 25.67285082750231,\n",
       " 'STS12': 9.00149243428942,\n",
       " 'STS13': -1.1915263024778955,\n",
       " 'STS14': 11.074823972610089,\n",
       " 'STS15': 18.165842651691342,\n",
       " 'STS16': 14.096059021049681,\n",
       " 'STSBenchmark': 39.279780403104944}"
      ]
     },
     "execution_count": 10,
     "metadata": {},
     "output_type": "execute_result"
    }
   ],
   "source": [
    "STS_updated_dict"
   ]
  },
  {
   "cell_type": "code",
   "execution_count": 17,
   "metadata": {},
   "outputs": [
    {
     "data": {
      "image/png": "[encoded data removed]",
      "text/plain": [
       "<Figure size 1152x864 with 1 Axes>"
      ]
     },
     "metadata": {},
     "output_type": "display_data"
    }
   ],
   "source": [
    "plt.bar(*zip(*sorted(STS_updated_dict.items())))\n",
    "plt.show()"
   ]
  },
  {
   "cell_type": "code",
   "execution_count": null,
   "metadata": {},
   "outputs": [],
   "source": []
  }
 ],
 "metadata": {
  "kernelspec": {
   "display_name": "Python 3",
   "language": "python",
   "name": "python3"
  },
  "language_info": {
   "codemirror_mode": {
    "name": "ipython",
    "version": 3
   },
   "file_extension": ".py",
   "mimetype": "text/x-python",
   "name": "python",
   "nbconvert_exporter": "python",
   "pygments_lexer": "ipython3",
   "version": "3.5.2"
  }
 },
 "nbformat": 4,
 "nbformat_minor": 2
}
