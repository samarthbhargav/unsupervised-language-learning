{
 "cells": [
  {
   "cell_type": "code",
   "execution_count": 1,
   "metadata": {},
   "outputs": [],
   "source": [
    "import os\n",
    "import random\n",
    "import pickle\n",
    "from collections import defaultdict, Counter\n",
    "\n",
    "import numpy as np\n",
    "\n",
    "from sklearn.manifold import TSNE, Isomap\n",
    "from sklearn.decomposition import PCA\n",
    "\n",
    "import matplotlib.pyplot as plt\n",
    "import scipy\n",
    "%matplotlib inline\n",
    "\n",
    "from models import *"
   ]
  },
  {
   "cell_type": "code",
   "execution_count": 2,
   "metadata": {},
   "outputs": [],
   "source": [
    "plt.rcParams[\"figure.figsize\"] = (15, 20)"
   ]
  },
  {
   "cell_type": "code",
   "execution_count": 3,
   "metadata": {},
   "outputs": [],
   "source": [
    "def read_analogy_data(path):\n",
    "    with open(path) as reader:\n",
    "        analogy_data = []\n",
    "        task_labels = []\n",
    "        for line in reader:\n",
    "            if line.startswith(\":\"):\n",
    "                task = line.strip().strip(\":\").strip()\n",
    "                continue\n",
    "            # convert to lower-case \n",
    "            analogy_data.append(line.strip().lower().split())\n",
    "            task_labels.append(task)\n",
    "    return analogy_data, task_labels\n",
    "analogy_data, task_labels = read_analogy_data(\"./data/questions-words.txt\")"
   ]
  },
  {
   "cell_type": "code",
   "execution_count": 4,
   "metadata": {},
   "outputs": [
    {
     "data": {
      "text/plain": [
       "([['athens', 'greece', 'baghdad', 'iraq'],\n",
       "  ['athens', 'greece', 'bangkok', 'thailand'],\n",
       "  ['athens', 'greece', 'beijing', 'china'],\n",
       "  ['athens', 'greece', 'berlin', 'germany'],\n",
       "  ['athens', 'greece', 'bern', 'switzerland'],\n",
       "  ['athens', 'greece', 'cairo', 'egypt'],\n",
       "  ['athens', 'greece', 'canberra', 'australia'],\n",
       "  ['athens', 'greece', 'hanoi', 'vietnam'],\n",
       "  ['athens', 'greece', 'havana', 'cuba'],\n",
       "  ['athens', 'greece', 'helsinki', 'finland']],\n",
       " ['capital-common-countries',\n",
       "  'capital-common-countries',\n",
       "  'capital-common-countries',\n",
       "  'capital-common-countries',\n",
       "  'capital-common-countries',\n",
       "  'capital-common-countries',\n",
       "  'capital-common-countries',\n",
       "  'capital-common-countries',\n",
       "  'capital-common-countries',\n",
       "  'capital-common-countries'])"
      ]
     },
     "execution_count": 4,
     "metadata": {},
     "output_type": "execute_result"
    }
   ],
   "source": [
    "# list of sub-categories\n",
    "analogy_data[:10], task_labels[:10]"
   ]
  },
  {
   "cell_type": "code",
   "execution_count": 5,
   "metadata": {},
   "outputs": [
    {
     "data": {
      "text/plain": [
       "Counter({'capital-common-countries': 506,\n",
       "         'capital-world': 4524,\n",
       "         'city-in-state': 2467,\n",
       "         'currency': 866,\n",
       "         'family': 506,\n",
       "         'gram1-adjective-to-adverb': 992,\n",
       "         'gram2-opposite': 812,\n",
       "         'gram3-comparative': 1332,\n",
       "         'gram4-superlative': 1122,\n",
       "         'gram5-present-participle': 1056,\n",
       "         'gram6-nationality-adjective': 1599,\n",
       "         'gram7-past-tense': 1560,\n",
       "         'gram8-plural': 1332,\n",
       "         'gram9-plural-verbs': 870})"
      ]
     },
     "execution_count": 5,
     "metadata": {},
     "output_type": "execute_result"
    }
   ],
   "source": [
    "Counter(task_labels)"
   ]
  },
  {
   "cell_type": "code",
   "execution_count": 6,
   "metadata": {},
   "outputs": [],
   "source": [
    "bow2_sim = load_model(\"bow2.words\")\n",
    "#bow5_sim = load_model(\"bow5.words\")\n",
    "#deps_sim = load_model(\"deps.words\")\n",
    "\n",
    "# models = {\n",
    "#     \"bow2\": bow2_sim,\n",
    "#     \"bow5\": bow5_sim,\n",
    "#     \"deps\": deps_sim\n",
    "# }"
   ]
  },
  {
   "cell_type": "code",
   "execution_count": 7,
   "metadata": {},
   "outputs": [
    {
     "name": "stdout",
     "output_type": "stream",
     "text": [
      "0.3333333333333333\n",
      "0.5\n",
      "1.0\n"
     ]
    }
   ],
   "source": [
    "def reciprocal_rank(correct_value, results):\n",
    "    try:\n",
    "        position = results.index(correct_value)\n",
    "        return 1 / (position + 1)\n",
    "    except:\n",
    "        return 0 \n",
    "\n",
    "# tests\n",
    "print(reciprocal_rank(\"cats\", [\"catten\", \"cati\", \"cats\"]))\n",
    "print(reciprocal_rank(\"tori\", [\"catten\", \"tori\", \"cats\"]))\n",
    "print(reciprocal_rank(\"virus\", [\"virus\", \"cati\", \"cats\"]))"
   ]
  },
  {
   "cell_type": "code",
   "execution_count": 8,
   "metadata": {},
   "outputs": [],
   "source": [
    "def compute_wv(model, a, a_star, b):\n",
    "    if a not in model.word_index or a_star not in model.word_index or b not in model.word_index:\n",
    "        return None\n",
    "    a, a_star, b = model[a], model[a_star], model[b]\n",
    "    v = a_star - a\n",
    "    b_star = b + v\n",
    "    return b_star"
   ]
  },
  {
   "cell_type": "code",
   "execution_count": null,
   "metadata": {},
   "outputs": [],
   "source": [
    "def cos_csim(matrix, vector):\n",
    "    \"\"\"\n",
    "    Compute the cosine distances between each row of matrix and vector.\n",
    "    \"\"\"\n",
    "    v = vector.reshape(1, -1)\n",
    "    return 1 - scipy.spatial.distance.cdist(matrix, v, 'cosine').reshape(-1)"
   ]
  },
  {
   "cell_type": "code",
   "execution_count": 43,
   "metadata": {},
   "outputs": [],
   "source": [
    "import time"
   ]
  },
  {
   "cell_type": "code",
   "execution_count": null,
   "metadata": {},
   "outputs": [
    {
     "name": "stdout",
     "output_type": "stream",
     "text": [
      "0: 0.012606791655222575 minutes\n",
      "100: 0.7654893676439921 minutes\n",
      "200: 1.4475637594858806 minutes\n",
      "300: 2.1128949761390685 minutes\n",
      "400: 2.7743141969045 minutes\n",
      "500: 3.4352715333302815 minutes\n",
      "600: 4.0956223169962565 minutes\n",
      "700: 4.756393575668335 minutes\n",
      "800: 5.415835746129354 minutes\n",
      "900: 6.081057441234589 minutes\n",
      "1000: 6.745235359668731 minutes\n",
      "1100: 7.406493008136749 minutes\n",
      "1200: 8.068427471319835 minutes\n",
      "1300: 8.728729943434397 minutes\n",
      "1400: 9.38922268152237 minutes\n",
      "1500: 10.048403346538544 minutes\n",
      "1600: 10.710478190581004 minutes\n",
      "1700: 11.370628583431245 minutes\n",
      "1800: 12.031337201595306 minutes\n",
      "1900: 12.691721157232921 minutes\n",
      "2000: 13.352600522836049 minutes\n",
      "2100: 14.0135138352712 minutes\n",
      "2200: 14.673587187131245 minutes\n",
      "2300: 15.333711850643159 minutes\n",
      "2400: 15.992825456460317 minutes\n",
      "2500: 16.651005025704702 minutes\n",
      "2600: 17.309117535750072 minutes\n",
      "2700: 17.97066947221756 minutes\n",
      "2800: 18.630885406335196 minutes\n",
      "2900: 19.29002690712611 minutes\n",
      "3000: 19.950294280052184 minutes\n",
      "3100: 20.609562146663666 minutes\n",
      "3200: 21.269384022553762 minutes\n",
      "3300: 21.929125293095908 minutes\n",
      "3400: 22.587049853801727 minutes\n",
      "3500: 23.250129222869873 minutes\n",
      "3600: 23.915397091706595 minutes\n",
      "3700: 24.581213708718618 minutes\n",
      "3800: 25.242904190222422 minutes\n",
      "3900: 25.90579948425293 minutes\n",
      "4000: 26.570994464556374 minutes\n",
      "4100: 27.23373390038808 minutes\n",
      "4200: 27.893559682369233 minutes\n",
      "4300: 28.55169412692388 minutes\n",
      "4400: 29.21253354549408 minutes\n",
      "4500: 29.87444888353348 minutes\n",
      "4600: 30.534915574391682 minutes\n",
      "4700: 31.196417554219565 minutes\n",
      "4800: 31.857719707489014 minutes\n",
      "4900: 32.51639136473338 minutes\n",
      "5000: 33.17725068330765 minutes\n",
      "5100: 33.785933287938434 minutes\n",
      "5200: 34.346399041016895 minutes\n",
      "5300: 34.91897916793823 minutes\n",
      "5400: 35.487162776788075 minutes\n",
      "5600: 36.30933971007665 minutes\n",
      "5700: 36.706932099660236 minutes\n",
      "5900: 37.68625944455464 minutes\n",
      "6000: 38.349031980832414 minutes\n",
      "6100: 39.01058700879415 minutes\n",
      "6200: 39.670536549886066 minutes\n",
      "6300: 40.3314097126325 minutes\n",
      "6400: 40.994146843751274 minutes\n",
      "6500: 41.654407703876494 minutes\n",
      "6600: 42.31969598929087 minutes\n",
      "6700: 42.9865271170934 minutes\n",
      "6800: 43.65207769473394 minutes\n",
      "6900: 44.31687503655751 minutes\n",
      "7000: 44.982691558202106 minutes\n",
      "7100: 45.648051635424295 minutes\n",
      "7200: 46.30856282313665 minutes\n",
      "7300: 46.96886823574702 minutes\n",
      "7400: 47.629407755533855 minutes\n",
      "7500: 48.29150351285934 minutes\n",
      "7600: 48.95222512483597 minutes\n",
      "7700: 49.61283250252406 minutes\n",
      "7800: 50.273791046937305 minutes\n",
      "7900: 50.935332882404325 minutes\n",
      "8000: 51.5969136873881 minutes\n",
      "8100: 52.25703714688619 minutes\n",
      "8200: 52.921113562583926 minutes\n",
      "8300: 53.58453378677368 minutes\n",
      "8400: 54.24724858601888 minutes\n",
      "8500: 54.90702279408773 minutes\n"
     ]
    }
   ],
   "source": [
    "def evaluate_model(model, data):\n",
    "    start_time = time.time()\n",
    "    overall_correct = []\n",
    "    overall_rr = []\n",
    "    task_correct = defaultdict(list)\n",
    "    task_rr = defaultdict(list)\n",
    "    skipped = 0\n",
    "    rev_index = dict([(v,k) for k, v in model.word_index.items()])\n",
    "    embeddings = np.array(model.embeddings)\n",
    "    for index, (tlab, (a, a_star, b, b_star_actual)) in enumerate(zip(task_labels, data)):\n",
    "        if b_star_actual not in model.word_index:\n",
    "            skipped += 1\n",
    "            continue\n",
    "        b_star = compute_wv(model, a, a_star, b)\n",
    "\n",
    "        if b_star is None:\n",
    "            skipped += 1\n",
    "            continue\n",
    "        results_score = cos_cdist(embeddings, b_star)\n",
    "        results = [(rev_index[idx], result) for idx, result in enumerate(results_score)]\n",
    "        results.sort(key=lambda _ : -_[1])\n",
    "        # exclude these\n",
    "        results = [r[0] for r in results if r[0] not in {a, a_star, b}]\n",
    "        if results[0] == b_star_actual:\n",
    "            overall_correct.append(1)\n",
    "            task_correct[tlab].append(1)\n",
    "        else:\n",
    "            overall_correct.append(0)\n",
    "            task_correct[tlab].append(0)\n",
    "        \n",
    "        overall_rr.append(reciprocal_rank(b_star_actual, results))\n",
    "        task_rr[tlab].append(reciprocal_rank(b_star_actual, results))\n",
    "\n",
    "        if index % 100 == 0:\n",
    "            print(\"{}: {} minutes\".format(index, (time.time() - start_time)/60))\n",
    "    \n",
    "    accuracy = sum(overall_correct) / len(overall_correct)\n",
    "    print(\"Accuracy: {}, MRR: {}\".format(accuracy, np.mean(overall_rr)))\n",
    "    \n",
    "    \n",
    "    for task_label in np.unique(task_labels):\n",
    "        accuracy = sum(task_correct[task_label]) / len(task_correct[task_label])\n",
    "        print(\"Task: {}:: Accuracy: {}, MRR: {}\".format(task_label, accuracy, np.mean(task_rr[task_label])))\n",
    "        \n",
    "evaluate_model(bow2_sim, analogy_data)"
   ]
  },
  {
   "cell_type": "code",
   "execution_count": 34,
   "metadata": {},
   "outputs": [
    {
     "name": "stdout",
     "output_type": "stream",
     "text": [
      "8400\n",
      "8500\n",
      "8600\n",
      "8700\n",
      "8800\n",
      "Accuracy: 0.7944664031620553, MRR: 0.8538134449938941\n"
     ]
    }
   ],
   "source": [
    "evaluate_model(bow2_sim, analogy_data, \"family\")"
   ]
  },
  {
   "cell_type": "code",
   "execution_count": 35,
   "metadata": {},
   "outputs": [
    {
     "name": "stdout",
     "output_type": "stream",
     "text": [
      "5100\n",
      "5200\n",
      "5300\n",
      "5400\n",
      "5600\n",
      "5700\n",
      "Accuracy: 0.1130030959752322, MRR: 0.14801165297319077\n"
     ]
    }
   ],
   "source": [
    "evaluate_model(bow2_sim, analogy_data, \"currency\")"
   ]
  },
  {
   "cell_type": "code",
   "execution_count": 36,
   "metadata": {},
   "outputs": [
    {
     "name": "stdout",
     "output_type": "stream",
     "text": [
      "18700\n",
      "18800\n",
      "18900\n",
      "19000\n",
      "19100\n",
      "19200\n",
      "19300\n",
      "19400\n",
      "19500\n",
      "Accuracy: 0.8068965517241379, MRR: 0.8647319328912093\n"
     ]
    }
   ],
   "source": [
    "evaluate_model(bow2_sim, analogy_data, \"gram9-plural-verbs\")"
   ]
  },
  {
   "cell_type": "code",
   "execution_count": 37,
   "metadata": {},
   "outputs": [
    {
     "name": "stdout",
     "output_type": "stream",
     "text": [
      "9900\n",
      "10000\n",
      "10100\n",
      "10200\n",
      "10300\n",
      "10400\n",
      "10500\n",
      "10600\n",
      "Accuracy: 0.35591133004926107, MRR: 0.42342064938705753\n"
     ]
    }
   ],
   "source": [
    "evaluate_model(bow2_sim, analogy_data, \"gram2-opposite\")"
   ]
  },
  {
   "cell_type": "code",
   "execution_count": 38,
   "metadata": {},
   "outputs": [
    {
     "name": "stdout",
     "output_type": "stream",
     "text": [
      "8900\n",
      "9000\n",
      "9100\n",
      "9200\n",
      "9300\n",
      "9400\n",
      "9500\n",
      "9600\n",
      "9700\n",
      "9800\n",
      "Accuracy: 0.1592741935483871, MRR: 0.2357158319077029\n"
     ]
    }
   ],
   "source": [
    "evaluate_model(bow2_sim, analogy_data, \"gram1-adjective-to-adverb\")"
   ]
  }
 ],
 "metadata": {
  "kernelspec": {
   "display_name": "Python 3",
   "language": "python",
   "name": "python3"
  },
  "language_info": {
   "codemirror_mode": {
    "name": "ipython",
    "version": 3
   },
   "file_extension": ".py",
   "mimetype": "text/x-python",
   "name": "python",
   "nbconvert_exporter": "python",
   "pygments_lexer": "ipython3",
   "version": "3.5.2"
  }
 },
 "nbformat": 4,
 "nbformat_minor": 2
}
