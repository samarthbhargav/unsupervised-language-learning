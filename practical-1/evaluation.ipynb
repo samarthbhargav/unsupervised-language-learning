{
 "cells": [
  {
   "cell_type": "code",
   "execution_count": 1,
   "metadata": {},
   "outputs": [],
   "source": [
    "import os\n",
    "import time\n",
    "import bz2\n",
    "import codecs\n",
    "import pickle as pkl\n",
    "\n",
    "import numpy as np\n",
    "from scipy import stats\n",
    "\n",
    "from models import *"
   ]
  },
  {
   "cell_type": "code",
   "execution_count": 2,
   "metadata": {
    "scrolled": true
   },
   "outputs": [],
   "source": [
    "dep_based = load_model(\"deps.words\")\n",
    "bow2_based = load_model(\"bow2.words\")\n",
    "bow5_based = load_model(\"bow5.words\")"
   ]
  },
  {
   "cell_type": "code",
   "execution_count": 5,
   "metadata": {},
   "outputs": [],
   "source": [
    "all_models = [['Dependency', dep_based], \n",
    "              ['BoW with k = 2', bow2_based], \n",
    "              ['BoW with k = 5', bow5_based]]"
   ]
  },
  {
   "cell_type": "code",
   "execution_count": 11,
   "metadata": {},
   "outputs": [],
   "source": [
    "# Read Simlex999.txt \n",
    "def read_sim_file(filename):\n",
    "    pairs_list = []\n",
    "    pairs_dict = {}\n",
    "    norm_dict = {}\n",
    "\n",
    "    with open(filename, \"r\") as f:\n",
    "        for _, line in enumerate(f):\n",
    "            line = line.strip().split()\n",
    "            pairs_list.append((line[0], line[1], line[3]))\n",
    "            pairs = pairs_list[1:]\n",
    "    for word1, word2, score in pairs:\n",
    "        if word1 not in pairs_dict.keys():\n",
    "            pairs_dict[word1] = []\n",
    "            norm_dict[word1] = []\n",
    "        pairs_dict[word1].append((word2,float(score)))\n",
    "\n",
    "#     for key, value in pairs_dict.items():\n",
    "#         normalized_sum = 0.0\n",
    "#         for _, score in value:\n",
    "#             normalized_sum += score\n",
    "#         for w, score in value:\n",
    "#             score = round(score/normalized_sum, 3)\n",
    "#             norm_dict[key].append((w, score))\n",
    "\n",
    "#     Sorting by scores\n",
    "    for word1, list_value in pairs_dict.items():\n",
    "        list_value.sort(key=lambda _: -_[1])\n",
    "    \n",
    "    return pairs_dict"
   ]
  },
  {
   "cell_type": "code",
   "execution_count": 24,
   "metadata": {},
   "outputs": [],
   "source": [
    "#Read MEN-Dataset-Natural-Full-Form\n",
    "def read_men_file(filename):\n",
    "    pairs_list = []\n",
    "    pairs_dict = {}\n",
    "    norm_dict = {}\n",
    "    \n",
    "    with open(filename, \"r\") as f:\n",
    "        for _, line in enumerate(f):\n",
    "            line = line.strip().split()\n",
    "            pairs_list.append((line[0], line[1], line[2]))\n",
    "    for word1, word2, score in pairs_list:\n",
    "        if word1 not in pairs_dict.keys():\n",
    "            pairs_dict[word1] = []\n",
    "            norm_dict[word1] = []\n",
    "        pairs_dict[word1].append((word2, float(score)/5.0))\n",
    "    \n",
    "# #     #normalizing scores in [0,1]\n",
    "#     for key, value in pairs_dict.items():\n",
    "#         normalized_sum = 0.0\n",
    "#         for _, score in value:\n",
    "#             normalized_sum += score\n",
    "#         for w, score in value:\n",
    "#             score = round(score/normalized_sum, 3)\n",
    "#             norm_dict[key].append((w, score))\n",
    "        \n",
    "    for key, value in pairs_dict.items():\n",
    "        value.sort(key=lambda _: -_[1])\n",
    "        \n",
    "    return pairs_dict"
   ]
  },
  {
   "cell_type": "code",
   "execution_count": 25,
   "metadata": {},
   "outputs": [],
   "source": [
    "men_natural = read_men_file(\"data/MEN/MEN_dataset_natural_form_full\")"
   ]
  },
  {
   "cell_type": "code",
   "execution_count": 26,
   "metadata": {},
   "outputs": [
    {
     "data": {
      "text/plain": [
       "[('smile', 8.0),\n",
       " ('love', 7.8),\n",
       " ('kids', 5.8),\n",
       " ('sexy', 5.6),\n",
       " ('tears', 5.4),\n",
       " ('kiss', 5.2),\n",
       " ('mom', 5.2),\n",
       " ('time', 4.8),\n",
       " ('home', 4.6),\n",
       " ('morning', 4.4),\n",
       " ('idea', 4.4),\n",
       " ('sleep', 4.4),\n",
       " ('stand', 3.4),\n",
       " ('night', 3.4),\n",
       " ('toes', 3.2),\n",
       " ('posted', 2.8),\n",
       " ('walk', 2.8),\n",
       " ('sitting', 2.2),\n",
       " ('licking', 2.2),\n",
       " ('stop', 1.0),\n",
       " ('rusty', 0.6)]"
      ]
     },
     "execution_count": 26,
     "metadata": {},
     "output_type": "execute_result"
    }
   ],
   "source": [
    "men_natural[\"happy\"]"
   ]
  },
  {
   "cell_type": "code",
   "execution_count": 27,
   "metadata": {
    "scrolled": true
   },
   "outputs": [],
   "source": [
    "simlex_999 = read_sim_file(\"data/SimLex-999/SimLex-999.txt\")"
   ]
  },
  {
   "cell_type": "code",
   "execution_count": 28,
   "metadata": {},
   "outputs": [
    {
     "data": {
      "text/plain": [
       "[('cheerful', 9.55),\n",
       " ('glad', 9.17),\n",
       " ('young', 2.0),\n",
       " ('angry', 1.28),\n",
       " ('mad', 0.95)]"
      ]
     },
     "execution_count": 28,
     "metadata": {},
     "output_type": "execute_result"
    }
   ],
   "source": [
    "simlex_999[\"happy\"]"
   ]
  },
  {
   "cell_type": "code",
   "execution_count": 35,
   "metadata": {},
   "outputs": [],
   "source": [
    "eval_models = [[\"MEN (Natural) Full Form\", men_natural],\n",
    "              [\"SimLex-999\", simlex_999]]"
   ]
  },
  {
   "cell_type": "code",
   "execution_count": 37,
   "metadata": {
    "scrolled": true
   },
   "outputs": [
    {
     "name": "stdout",
     "output_type": "stream",
     "text": [
      "0\n",
      "100\n",
      "200\n",
      "300\n",
      "400\n",
      "500\n",
      "600\n",
      "MEN (Natural) Full Form  vs.  Dependency  ~ Spearman Correlation:  0.012574605774151478\n",
      "MEN (Natural) Full Form  vs.  Dependency  ~ Pearson Correlation:  [0.08847134]\n",
      "0\n",
      "100\n",
      "200\n",
      "300\n",
      "400\n",
      "500\n",
      "600\n",
      "MEN (Natural) Full Form  vs.  BoW with k = 2  ~ Spearman Correlation:  0.11644121914190454\n",
      "MEN (Natural) Full Form  vs.  BoW with k = 2  ~ Pearson Correlation:  [0.17544529]\n",
      "0\n",
      "100\n",
      "200\n",
      "300\n",
      "400\n",
      "500\n",
      "600\n",
      "MEN (Natural) Full Form  vs.  BoW with k = 5  ~ Spearman Correlation:  0.11166579992975292\n",
      "MEN (Natural) Full Form  vs.  BoW with k = 5  ~ Pearson Correlation:  [0.15944745]\n",
      "Comparing against  MEN (Natural) Full Form  for all models took  4249.335703611374  seconds.\n",
      "\n",
      "0\n"
     ]
    },
    {
     "ename": "KeyboardInterrupt",
     "evalue": "",
     "output_type": "error",
     "traceback": [
      "\u001b[0;31m---------------------------------------------------------------------------\u001b[0m",
      "\u001b[0;31mKeyboardInterrupt\u001b[0m                         Traceback (most recent call last)",
      "\u001b[0;32m<ipython-input-37-3f01ce89bd95>\u001b[0m in \u001b[0;36m<module>\u001b[0;34m()\u001b[0m\n\u001b[1;32m     15\u001b[0m                 \u001b[0;32mif\u001b[0m \u001b[0;34m(\u001b[0m\u001b[0mkey\u001b[0m \u001b[0;34m==\u001b[0m \u001b[0mmodel_word\u001b[0m\u001b[0;34m)\u001b[0m\u001b[0;34m:\u001b[0m\u001b[0;34m\u001b[0m\u001b[0m\n\u001b[1;32m     16\u001b[0m                     \u001b[0meval_length\u001b[0m \u001b[0;34m=\u001b[0m \u001b[0mlen\u001b[0m\u001b[0;34m(\u001b[0m\u001b[0mvalue\u001b[0m\u001b[0;34m)\u001b[0m\u001b[0;34m\u001b[0m\u001b[0m\n\u001b[0;32m---> 17\u001b[0;31m                     \u001b[0mmodel_all_values\u001b[0m \u001b[0;34m=\u001b[0m \u001b[0mcomp_item\u001b[0m\u001b[0;34m[\u001b[0m\u001b[0;36m1\u001b[0m\u001b[0;34m]\u001b[0m\u001b[0;34m.\u001b[0m\u001b[0mmost_similar\u001b[0m\u001b[0;34m(\u001b[0m\u001b[0mkey\u001b[0m\u001b[0;34m,\u001b[0m \u001b[0mscore\u001b[0m \u001b[0;34m=\u001b[0m \u001b[0;32mTrue\u001b[0m\u001b[0;34m,\u001b[0m \u001b[0mn\u001b[0m \u001b[0;34m=\u001b[0m \u001b[0meval_length\u001b[0m\u001b[0;34m)\u001b[0m\u001b[0;34m\u001b[0m\u001b[0m\n\u001b[0m\u001b[1;32m     18\u001b[0m \u001b[0;34m\u001b[0m\u001b[0m\n\u001b[1;32m     19\u001b[0m                     \u001b[0;32mfor\u001b[0m \u001b[0m_\u001b[0m\u001b[0;34m,\u001b[0m \u001b[0mscore\u001b[0m \u001b[0;32min\u001b[0m \u001b[0mvalue\u001b[0m\u001b[0;34m:\u001b[0m\u001b[0;34m\u001b[0m\u001b[0m\n",
      "\u001b[0;32m~/Documents/ULL/unsupervised-language-learning/practical-1/models.py\u001b[0m in \u001b[0;36mmost_similar\u001b[0;34m(self, word, n, score)\u001b[0m\n\u001b[1;32m     58\u001b[0m \u001b[0;34m\u001b[0m\u001b[0m\n\u001b[1;32m     59\u001b[0m     \u001b[0;32mdef\u001b[0m \u001b[0mmost_similar\u001b[0m\u001b[0;34m(\u001b[0m\u001b[0mself\u001b[0m\u001b[0;34m,\u001b[0m \u001b[0mword\u001b[0m\u001b[0;34m,\u001b[0m \u001b[0mn\u001b[0m\u001b[0;34m=\u001b[0m\u001b[0;36m10\u001b[0m\u001b[0;34m,\u001b[0m \u001b[0mscore\u001b[0m\u001b[0;34m=\u001b[0m\u001b[0;32mFalse\u001b[0m\u001b[0;34m)\u001b[0m\u001b[0;34m:\u001b[0m\u001b[0;34m\u001b[0m\u001b[0m\n\u001b[0;32m---> 60\u001b[0;31m         \u001b[0;32mreturn\u001b[0m \u001b[0mself\u001b[0m\u001b[0;34m.\u001b[0m\u001b[0mmost_similar_to_vector\u001b[0m\u001b[0;34m(\u001b[0m\u001b[0mself\u001b[0m\u001b[0;34m[\u001b[0m\u001b[0mword\u001b[0m\u001b[0;34m]\u001b[0m\u001b[0;34m,\u001b[0m \u001b[0mn\u001b[0m\u001b[0;34m=\u001b[0m\u001b[0mn\u001b[0m\u001b[0;34m,\u001b[0m \u001b[0mscore\u001b[0m\u001b[0;34m=\u001b[0m\u001b[0mscore\u001b[0m\u001b[0;34m,\u001b[0m \u001b[0mword\u001b[0m\u001b[0;34m=\u001b[0m\u001b[0mword\u001b[0m\u001b[0;34m)\u001b[0m\u001b[0;34m\u001b[0m\u001b[0m\n\u001b[0m\u001b[1;32m     61\u001b[0m \u001b[0;34m\u001b[0m\u001b[0m\n\u001b[1;32m     62\u001b[0m     \u001b[0;32mdef\u001b[0m \u001b[0mget_word_index_matrix\u001b[0m\u001b[0;34m(\u001b[0m\u001b[0mself\u001b[0m\u001b[0;34m)\u001b[0m\u001b[0;34m:\u001b[0m\u001b[0;34m\u001b[0m\u001b[0m\n",
      "\u001b[0;32m~/Documents/ULL/unsupervised-language-learning/practical-1/models.py\u001b[0m in \u001b[0;36mmost_similar_to_vector\u001b[0;34m(self, vector, n, score, word)\u001b[0m\n\u001b[1;32m     50\u001b[0m             \u001b[0;32mif\u001b[0m \u001b[0mword\u001b[0m \u001b[0;32mand\u001b[0m \u001b[0mword\u001b[0m \u001b[0;34m==\u001b[0m \u001b[0mother_word\u001b[0m\u001b[0;34m:\u001b[0m\u001b[0;34m\u001b[0m\u001b[0m\n\u001b[1;32m     51\u001b[0m                 \u001b[0;32mcontinue\u001b[0m\u001b[0;34m\u001b[0m\u001b[0m\n\u001b[0;32m---> 52\u001b[0;31m             \u001b[0mword_distances\u001b[0m\u001b[0;34m.\u001b[0m\u001b[0mappend\u001b[0m\u001b[0;34m(\u001b[0m\u001b[0;34m(\u001b[0m\u001b[0mother_word\u001b[0m\u001b[0;34m,\u001b[0m \u001b[0mself\u001b[0m\u001b[0;34m.\u001b[0m\u001b[0msimilarity\u001b[0m\u001b[0;34m(\u001b[0m\u001b[0mvector\u001b[0m\u001b[0;34m,\u001b[0m \u001b[0mself\u001b[0m\u001b[0;34m[\u001b[0m\u001b[0mother_word\u001b[0m\u001b[0;34m]\u001b[0m\u001b[0;34m)\u001b[0m\u001b[0;34m)\u001b[0m\u001b[0;34m)\u001b[0m\u001b[0;34m\u001b[0m\u001b[0m\n\u001b[0m\u001b[1;32m     53\u001b[0m         \u001b[0mword_distances\u001b[0m\u001b[0;34m.\u001b[0m\u001b[0msort\u001b[0m\u001b[0;34m(\u001b[0m\u001b[0mkey\u001b[0m\u001b[0;34m=\u001b[0m\u001b[0;32mlambda\u001b[0m \u001b[0m_\u001b[0m\u001b[0;34m:\u001b[0m \u001b[0;34m-\u001b[0m\u001b[0m_\u001b[0m\u001b[0;34m[\u001b[0m\u001b[0;36m1\u001b[0m\u001b[0;34m]\u001b[0m\u001b[0;34m)\u001b[0m\u001b[0;34m\u001b[0m\u001b[0m\n\u001b[1;32m     54\u001b[0m         \u001b[0;32mif\u001b[0m \u001b[0mscore\u001b[0m\u001b[0;34m:\u001b[0m\u001b[0;34m\u001b[0m\u001b[0m\n",
      "\u001b[0;32m~/Documents/ULL/unsupervised-language-learning/practical-1/models.py\u001b[0m in \u001b[0;36mcosine_similarity\u001b[0;34m(u, v)\u001b[0m\n\u001b[1;32m     27\u001b[0m \u001b[0;34m\u001b[0m\u001b[0m\n\u001b[1;32m     28\u001b[0m \u001b[0;32mdef\u001b[0m \u001b[0mcosine_similarity\u001b[0m\u001b[0;34m(\u001b[0m\u001b[0mu\u001b[0m\u001b[0;34m,\u001b[0m \u001b[0mv\u001b[0m\u001b[0;34m)\u001b[0m\u001b[0;34m:\u001b[0m\u001b[0;34m\u001b[0m\u001b[0m\n\u001b[0;32m---> 29\u001b[0;31m     \u001b[0;32mreturn\u001b[0m \u001b[0mnp\u001b[0m\u001b[0;34m.\u001b[0m\u001b[0mdot\u001b[0m\u001b[0;34m(\u001b[0m\u001b[0mu\u001b[0m\u001b[0;34m,\u001b[0m \u001b[0mv\u001b[0m\u001b[0;34m)\u001b[0m \u001b[0;34m/\u001b[0m \u001b[0;34m(\u001b[0m\u001b[0mnp\u001b[0m\u001b[0;34m.\u001b[0m\u001b[0mlinalg\u001b[0m\u001b[0;34m.\u001b[0m\u001b[0mnorm\u001b[0m\u001b[0;34m(\u001b[0m\u001b[0mu\u001b[0m\u001b[0;34m)\u001b[0m \u001b[0;34m*\u001b[0m \u001b[0mnp\u001b[0m\u001b[0;34m.\u001b[0m\u001b[0mlinalg\u001b[0m\u001b[0;34m.\u001b[0m\u001b[0mnorm\u001b[0m\u001b[0;34m(\u001b[0m\u001b[0mv\u001b[0m\u001b[0;34m)\u001b[0m\u001b[0;34m)\u001b[0m\u001b[0;34m\u001b[0m\u001b[0m\n\u001b[0m\u001b[1;32m     30\u001b[0m \u001b[0;34m\u001b[0m\u001b[0m\n\u001b[1;32m     31\u001b[0m \u001b[0;34m\u001b[0m\u001b[0m\n",
      "\u001b[0;32m~/anaconda3/lib/python3.6/site-packages/numpy/linalg/linalg.py\u001b[0m in \u001b[0;36mnorm\u001b[0;34m(x, ord, axis, keepdims)\u001b[0m\n\u001b[1;32m   2255\u001b[0m             \u001b[0;32melse\u001b[0m\u001b[0;34m:\u001b[0m\u001b[0;34m\u001b[0m\u001b[0m\n\u001b[1;32m   2256\u001b[0m                 \u001b[0msqnorm\u001b[0m \u001b[0;34m=\u001b[0m \u001b[0mdot\u001b[0m\u001b[0;34m(\u001b[0m\u001b[0mx\u001b[0m\u001b[0;34m,\u001b[0m \u001b[0mx\u001b[0m\u001b[0;34m)\u001b[0m\u001b[0;34m\u001b[0m\u001b[0m\n\u001b[0;32m-> 2257\u001b[0;31m             \u001b[0mret\u001b[0m \u001b[0;34m=\u001b[0m \u001b[0msqrt\u001b[0m\u001b[0;34m(\u001b[0m\u001b[0msqnorm\u001b[0m\u001b[0;34m)\u001b[0m\u001b[0;34m\u001b[0m\u001b[0m\n\u001b[0m\u001b[1;32m   2258\u001b[0m             \u001b[0;32mif\u001b[0m \u001b[0mkeepdims\u001b[0m\u001b[0;34m:\u001b[0m\u001b[0;34m\u001b[0m\u001b[0m\n\u001b[1;32m   2259\u001b[0m                 \u001b[0mret\u001b[0m \u001b[0;34m=\u001b[0m \u001b[0mret\u001b[0m\u001b[0;34m.\u001b[0m\u001b[0mreshape\u001b[0m\u001b[0;34m(\u001b[0m\u001b[0mndim\u001b[0m\u001b[0;34m*\u001b[0m\u001b[0;34m[\u001b[0m\u001b[0;36m1\u001b[0m\u001b[0;34m]\u001b[0m\u001b[0;34m)\u001b[0m\u001b[0;34m\u001b[0m\u001b[0m\n",
      "\u001b[0;31mKeyboardInterrupt\u001b[0m: "
     ]
    }
   ],
   "source": [
    "# Evaluation\n",
    "# For each common word from Simlex vs. models\n",
    "#     Find length of Simlex data\n",
    "#     Read similar length data in models\n",
    "#     Store scores in (a, b) - for spearman (two 1D arrays of the scores)\n",
    "\n",
    "for item in eval_models:\n",
    "    start_time = time.time()\n",
    "    for comp_item in all_models:\n",
    "        a = np.zeros((len(item[1]),1))\n",
    "        b = np.zeros((len(item[1]),1))\n",
    "        i = 0\n",
    "        for key, value in item[1].items():\n",
    "            for model_word in comp_item[1].word_index.keys():\n",
    "                if (key == model_word):\n",
    "                    eval_length = len(value)\n",
    "                    model_all_values = comp_item[1].most_similar(key, score = True, n = eval_length)\n",
    "                    \n",
    "                    for _, score in value:\n",
    "                        a[i] = score\n",
    "                    for _, model_score in model_all_values:\n",
    "                        b[i] = model_score\n",
    "            if(i%100 == 0):\n",
    "                print(i)\n",
    "            i=i+1\n",
    "            rho, _ = stats.spearmanr(a, b, axis = None)\n",
    "            val, _ = stats.pearsonr(a, b)\n",
    "        print(item[0], ' vs. ', comp_item[0], ' ~ Spearman Correlation: ', rho)\n",
    "        print(item[0], ' vs. ', comp_item[0], ' ~ Pearson Correlation: ', val)\n",
    "    print(\"Comparing against \", item[0], \" for all models took \", time.time() - start_time, \" seconds.\\n\")"
   ]
  },
  {
   "cell_type": "code",
   "execution_count": null,
   "metadata": {},
   "outputs": [],
   "source": []
  }
 ],
 "metadata": {
  "kernelspec": {
   "display_name": "Python 3",
   "language": "python",
   "name": "python3"
  },
  "language_info": {
   "codemirror_mode": {
    "name": "ipython",
    "version": 3
   },
   "file_extension": ".py",
   "mimetype": "text/x-python",
   "name": "python",
   "nbconvert_exporter": "python",
   "pygments_lexer": "ipython3",
   "version": "3.6.3"
  }
 },
 "nbformat": 4,
 "nbformat_minor": 2
}
