{
 "cells": [
  {
   "cell_type": "code",
   "execution_count": 1,
   "metadata": {},
   "outputs": [],
   "source": [
    "import os\n",
    "import time\n",
    "import bz2\n",
    "import codecs\n",
    "import pickle as pkl\n",
    "\n",
    "import numpy as np\n",
    "from scipy import stats\n",
    "\n",
    "from models import *"
   ]
  },
  {
   "cell_type": "code",
   "execution_count": 2,
   "metadata": {
    "scrolled": true
   },
   "outputs": [],
   "source": [
    "dep_based = load_model(\"deps.words\")\n",
    "bow2_based = load_model(\"bow2.words\")\n",
    "bow5_based = load_model(\"bow5.words\")"
   ]
  },
  {
   "cell_type": "code",
   "execution_count": 3,
   "metadata": {},
   "outputs": [],
   "source": [
    "all_models = [['Dependency', dep_based], \n",
    "              ['BoW with k = 2', bow2_based], \n",
    "              ['BoW with k = 5', bow5_based]]"
   ]
  },
  {
   "cell_type": "code",
   "execution_count": 4,
   "metadata": {},
   "outputs": [],
   "source": [
    "# Read Simlex999.txt \n",
    "def read_sim_file(filename):\n",
    "    pairs_list = []\n",
    "    pairs_dict = {}\n",
    "    with open(filename, \"r\") as f:\n",
    "        for _, line in enumerate(f):\n",
    "            line = line.strip().split()\n",
    "            pairs_list.append((line[0], line[1], line[3]))\n",
    "            pairs = pairs_list[1:]\n",
    "    for word1, word2, score in pairs:\n",
    "        if word1 not in pairs_dict.keys():\n",
    "            pairs_dict[word1] = []\n",
    "        pairs_dict[word1].append((word2,float(score)))\n",
    "# Sorting by scores\n",
    "    for word1, list_value in pairs_dict.items():\n",
    "        list_value.sort(key=lambda _: -_[1])\n",
    "    return pairs_dict\n"
   ]
  },
  {
   "cell_type": "code",
   "execution_count": 5,
   "metadata": {},
   "outputs": [],
   "source": [
    "#Read MEN-Dataset-Natural-Full-Form\n",
    "def read_men_file(filename):\n",
    "    pairs_list = []\n",
    "    pairs_dict = {}\n",
    "    with open(filename, \"r\") as f:\n",
    "        for _, line in enumerate(f):\n",
    "            line = line.strip().split()\n",
    "            pairs_list.append((line[0], line[1], line[2]))\n",
    "    for word1, word2, score in pairs_list:\n",
    "        if word1 not in pairs_dict.keys():\n",
    "            pairs_dict[word1] = []\n",
    "        pairs_dict[word1].append((word2, float(score)))\n",
    "    \n",
    "    for key, value in pairs_dict.items():\n",
    "        value.sort(key=lambda _: -_[1])\n",
    "        \n",
    "    return pairs_dict"
   ]
  },
  {
   "cell_type": "code",
   "execution_count": 6,
   "metadata": {
    "scrolled": true
   },
   "outputs": [],
   "source": [
    "simlex_999 = read_sim_file(\"data/SimLex-999/SimLex-999.txt\")"
   ]
  },
  {
   "cell_type": "code",
   "execution_count": 7,
   "metadata": {},
   "outputs": [
    {
     "data": {
      "text/plain": [
       "[('cheerful', 9.55),\n",
       " ('glad', 9.17),\n",
       " ('young', 2.0),\n",
       " ('angry', 1.28),\n",
       " ('mad', 0.95)]"
      ]
     },
     "execution_count": 7,
     "metadata": {},
     "output_type": "execute_result"
    }
   ],
   "source": [
    "simlex_999[\"happy\"]"
   ]
  },
  {
   "cell_type": "code",
   "execution_count": 8,
   "metadata": {},
   "outputs": [],
   "source": [
    "men_natural = read_men_file(\"data/MEN/MEN_dataset_natural_form_full\")"
   ]
  },
  {
   "cell_type": "code",
   "execution_count": 9,
   "metadata": {},
   "outputs": [
    {
     "data": {
      "text/plain": [
       "[('smile', 40.0),\n",
       " ('love', 39.0),\n",
       " ('kids', 29.0),\n",
       " ('sexy', 28.0),\n",
       " ('tears', 27.0),\n",
       " ('kiss', 26.0),\n",
       " ('mom', 26.0),\n",
       " ('time', 24.0),\n",
       " ('home', 23.0),\n",
       " ('morning', 22.0),\n",
       " ('idea', 22.0),\n",
       " ('sleep', 22.0),\n",
       " ('stand', 17.0),\n",
       " ('night', 17.0),\n",
       " ('toes', 16.0),\n",
       " ('posted', 14.0),\n",
       " ('walk', 14.0),\n",
       " ('sitting', 11.0),\n",
       " ('licking', 11.0),\n",
       " ('stop', 5.0),\n",
       " ('rusty', 3.0)]"
      ]
     },
     "execution_count": 9,
     "metadata": {},
     "output_type": "execute_result"
    }
   ],
   "source": [
    "men_natural[\"happy\"]"
   ]
  },
  {
   "cell_type": "code",
   "execution_count": 10,
   "metadata": {},
   "outputs": [],
   "source": [
    "eval_models = [[\"SimLex-999\", simlex_999], \n",
    "               [\"MEN (Natural) Full Form\", men_natural]]"
   ]
  },
  {
   "cell_type": "code",
   "execution_count": 11,
   "metadata": {},
   "outputs": [
    {
     "name": "stdout",
     "output_type": "stream",
     "text": [
      "SimLex-999  vs.  Dependency  ~ Spearman Correlation:  0.35255616374878085\n",
      "SimLex-999  vs.  Dependency  ~ Pearson Correlation:  [0.34894498]\n",
      "SimLex-999  vs.  BoW with k = 2  ~ Spearman Correlation:  0.4187383017559465\n",
      "SimLex-999  vs.  BoW with k = 2  ~ Pearson Correlation:  [0.42075226]\n",
      "SimLex-999  vs.  BoW with k = 5  ~ Spearman Correlation:  0.37648799239764275\n",
      "SimLex-999  vs.  BoW with k = 5  ~ Pearson Correlation:  [0.37054853]\n",
      "Comparing against  SimLex-999  for all models took  3852.2572481632233  seconds.\n",
      "\n",
      "MEN (Natural) Full Form  vs.  Dependency  ~ Spearman Correlation:  0.26840465221879417\n",
      "MEN (Natural) Full Form  vs.  Dependency  ~ Pearson Correlation:  [0.31301145]\n",
      "MEN (Natural) Full Form  vs.  BoW with k = 2  ~ Spearman Correlation:  0.35724301961763083\n",
      "MEN (Natural) Full Form  vs.  BoW with k = 2  ~ Pearson Correlation:  [0.42310006]\n",
      "MEN (Natural) Full Form  vs.  BoW with k = 5  ~ Spearman Correlation:  0.30218813419558455\n",
      "MEN (Natural) Full Form  vs.  BoW with k = 5  ~ Pearson Correlation:  [0.34873428]\n",
      "Comparing against  MEN (Natural) Full Form  for all models took  3947.229115009308  seconds.\n",
      "\n"
     ]
    }
   ],
   "source": [
    "# Evaluation\n",
    "# For each common word from Simlex vs. models\n",
    "#     Find length of Simlex data\n",
    "#         Normalize scores of Simlex data in the range [0,1]\n",
    "#     Read similar length data in models\n",
    "#     Store scores in (a, b) - for spearman (two 1D arrays of the scores)\n",
    "\n",
    "for item in eval_models:\n",
    "    start_time = time.time()\n",
    "    for comp_item in all_models:\n",
    "        a = np.zeros((len(item[1]),1))\n",
    "        b = np.zeros((len(item[1]),1))\n",
    "        i = 0\n",
    "        for key, value in item[1].items():\n",
    "            for model_word in comp_item[1].word_index.keys():\n",
    "                if (key == model_word):\n",
    "                    eval_length = len(value)\n",
    "                    model_all_values = comp_item[1].most_similar(key, score = True, n = eval_length)\n",
    "                    normalized_sum = 0.0\n",
    "\n",
    "                    for _, score in value:\n",
    "                        normalized_sum += score\n",
    "                    for _, score in value:\n",
    "                        score = round(score/normalized_sum, 3)\n",
    "                        a[i] = score\n",
    "                    for _, model_score in model_all_values:\n",
    "                        b[i] = model_score\n",
    "            i=i+1\n",
    "            rho, _ = stats.spearmanr(a, b, axis = None)\n",
    "            val, _ = stats.pearsonr(a, b)\n",
    "        print(item[0], ' vs. ', comp_item[0], ' ~ Spearman Correlation: ', rho)\n",
    "        print(item[0], ' vs. ', comp_item[0], ' ~ Pearson Correlation: ', val)\n",
    "    print(\"Comparing against \", item[0], \" for all models took \", time.time() - start_time, \" seconds.\\n\")"
   ]
  }
 ],
 "metadata": {
  "kernelspec": {
   "display_name": "Python 3",
   "language": "python",
   "name": "python3"
  },
  "language_info": {
   "codemirror_mode": {
    "name": "ipython",
    "version": 3
   },
   "file_extension": ".py",
   "mimetype": "text/x-python",
   "name": "python",
   "nbconvert_exporter": "python",
   "pygments_lexer": "ipython3",
   "version": "3.6.3"
  }
 },
 "nbformat": 4,
 "nbformat_minor": 2
}
