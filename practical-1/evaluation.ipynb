{
 "cells": [
  {
   "cell_type": "code",
   "execution_count": 1,
   "metadata": {},
   "outputs": [],
   "source": [
    "import os\n",
    "import time\n",
    "import bz2\n",
    "import codecs\n",
    "import pickle as pkl\n",
    "\n",
    "import numpy as np\n",
    "from scipy import stats\n",
    "\n",
    "from models import *"
   ]
  },
  {
   "cell_type": "code",
   "execution_count": 2,
   "metadata": {
    "scrolled": true
   },
   "outputs": [],
   "source": [
    "dep_based = load_model(\"deps.words\")\n",
    "bow2_based = load_model(\"bow2.words\")\n",
    "bow5_based = load_model(\"bow5.words\")"
   ]
  },
  {
   "cell_type": "code",
   "execution_count": 3,
   "metadata": {},
   "outputs": [],
   "source": [
    "all_models = [['Dependency', dep_based], \n",
    "              ['BoW with k = 2', bow2_based], \n",
    "              ['BoW with k = 5', bow5_based]]"
   ]
  },
  {
   "cell_type": "code",
   "execution_count": 4,
   "metadata": {},
   "outputs": [],
   "source": [
    "# Read Simlex999.txt \n",
    "def read_sim_file(filename):\n",
    "    pairs_list = []\n",
    "    pairs_dict = {}\n",
    "    norm_dict = {}\n",
    "\n",
    "    with open(filename, \"r\") as f:\n",
    "        for _, line in enumerate(f):\n",
    "            line = line.strip().split()\n",
    "            pairs_list.append((line[0], line[1], line[3]))\n",
    "            pairs = pairs_list[1:]\n",
    "    for word1, word2, score in pairs:\n",
    "        if word1 not in pairs_dict.keys():\n",
    "            pairs_dict[word1] = []\n",
    "            norm_dict[word1] = []\n",
    "        pairs_dict[word1].append((word2,float(score)))\n",
    "\n",
    "    for key, value in pairs_dict.items():\n",
    "        normalized_sum = 0.0\n",
    "        for _, score in value:\n",
    "            normalized_sum += score\n",
    "        for w, score in value:\n",
    "            score = round(score/normalized_sum, 3)\n",
    "            norm_dict[key].append((w, score))\n",
    "\n",
    "#     Sorting by scores\n",
    "    for word1, list_value in norm_dict.items():\n",
    "        list_value.sort(key=lambda _: -_[1])\n",
    "    \n",
    "    return norm_dict"
   ]
  },
  {
   "cell_type": "code",
   "execution_count": 5,
   "metadata": {},
   "outputs": [],
   "source": [
    "#Read MEN-Dataset-Natural-Full-Form\n",
    "def read_men_file(filename):\n",
    "    pairs_list = []\n",
    "    pairs_dict = {}\n",
    "    norm_dict = {}\n",
    "    \n",
    "    with open(filename, \"r\") as f:\n",
    "        for _, line in enumerate(f):\n",
    "            line = line.strip().split()\n",
    "            pairs_list.append((line[0], line[1], line[2]))\n",
    "    for word1, word2, score in pairs_list:\n",
    "        if word1 not in pairs_dict.keys():\n",
    "            pairs_dict[word1] = []\n",
    "            norm_dict[word1] = []\n",
    "        pairs_dict[word1].append((word2, float(score)))\n",
    "    \n",
    "    #normalizing scores in [0,1]\n",
    "    for key, value in pairs_dict.items():\n",
    "        normalized_sum = 0.0\n",
    "        for _, score in value:\n",
    "            normalized_sum += score\n",
    "        for w, score in value:\n",
    "            score = round(score/normalized_sum, 3)\n",
    "            norm_dict[key].append((w, score))\n",
    "        \n",
    "    for key, value in norm_dict.items():\n",
    "        value.sort(key=lambda _: -_[1])\n",
    "        \n",
    "    return norm_dict"
   ]
  },
  {
   "cell_type": "code",
   "execution_count": 6,
   "metadata": {},
   "outputs": [],
   "source": [
    "men_natural = read_men_file(\"data/MEN/MEN_dataset_natural_form_full\")"
   ]
  },
  {
   "cell_type": "code",
   "execution_count": 7,
   "metadata": {},
   "outputs": [
    {
     "data": {
      "text/plain": [
       "[('sunlight', 0.27), ('sunshine', 0.254), ('sunrise', 0.238), ('sunny', 0.238)]"
      ]
     },
     "execution_count": 7,
     "metadata": {},
     "output_type": "execute_result"
    }
   ],
   "source": [
    "men_natural[\"sun\"]"
   ]
  },
  {
   "cell_type": "code",
   "execution_count": 8,
   "metadata": {
    "scrolled": true
   },
   "outputs": [],
   "source": [
    "simlex_999 = read_sim_file(\"data/SimLex-999/SimLex-999.txt\")"
   ]
  },
  {
   "cell_type": "code",
   "execution_count": 9,
   "metadata": {},
   "outputs": [
    {
     "data": {
      "text/plain": [
       "[('cheerful', 0.416),\n",
       " ('glad', 0.4),\n",
       " ('young', 0.087),\n",
       " ('angry', 0.056),\n",
       " ('mad', 0.041)]"
      ]
     },
     "execution_count": 9,
     "metadata": {},
     "output_type": "execute_result"
    }
   ],
   "source": [
    "simlex_999[\"happy\"]"
   ]
  },
  {
   "cell_type": "code",
   "execution_count": 10,
   "metadata": {},
   "outputs": [],
   "source": [
    "eval_models = [[\"SimLex-999\", simlex_999], \n",
    "               [\"MEN (Natural) Full Form\", men_natural]]"
   ]
  },
  {
   "cell_type": "code",
   "execution_count": 11,
   "metadata": {},
   "outputs": [
    {
     "name": "stdout",
     "output_type": "stream",
     "text": [
      "SimLex-999  vs.  Dependency  ~ Spearman Correlation:  0.35255616374878085\n",
      "SimLex-999  vs.  Dependency  ~ Pearson Correlation:  [0.34894498]\n",
      "SimLex-999  vs.  BoW with k = 2  ~ Spearman Correlation:  0.4187383017559465\n",
      "SimLex-999  vs.  BoW with k = 2  ~ Pearson Correlation:  [0.42075226]\n",
      "SimLex-999  vs.  BoW with k = 5  ~ Spearman Correlation:  0.37648799239764275\n",
      "SimLex-999  vs.  BoW with k = 5  ~ Pearson Correlation:  [0.37054853]\n",
      "Comparing against  SimLex-999  for all models took  4054.3929476737976  seconds.\n",
      "\n",
      "MEN (Natural) Full Form  vs.  Dependency  ~ Spearman Correlation:  0.26840465221879417\n",
      "MEN (Natural) Full Form  vs.  Dependency  ~ Pearson Correlation:  [0.31301145]\n",
      "MEN (Natural) Full Form  vs.  BoW with k = 2  ~ Spearman Correlation:  0.35724301961763083\n",
      "MEN (Natural) Full Form  vs.  BoW with k = 2  ~ Pearson Correlation:  [0.42310006]\n",
      "MEN (Natural) Full Form  vs.  BoW with k = 5  ~ Spearman Correlation:  0.30218813419558455\n",
      "MEN (Natural) Full Form  vs.  BoW with k = 5  ~ Pearson Correlation:  [0.34873428]\n",
      "Comparing against  MEN (Natural) Full Form  for all models took  4129.19317150116  seconds.\n",
      "\n"
     ]
    }
   ],
   "source": [
    "# Evaluation\n",
    "# For each common word from Simlex vs. models\n",
    "#     Find length of Simlex data\n",
    "#     Read similar length data in models\n",
    "#     Store scores in (a, b) - for spearman (two 1D arrays of the scores)\n",
    "\n",
    "for item in eval_models:\n",
    "    start_time = time.time()\n",
    "    for comp_item in all_models:\n",
    "        a = np.zeros((len(item[1]),1))\n",
    "        b = np.zeros((len(item[1]),1))\n",
    "        i = 0\n",
    "        for key, value in item[1].items():\n",
    "            for model_word in comp_item[1].word_index.keys():\n",
    "                if (key == model_word):\n",
    "                    eval_length = len(value)\n",
    "                    model_all_values = comp_item[1].most_similar(key, score = True, n = eval_length)\n",
    "                    \n",
    "                    for _, score in value:\n",
    "                        a[i] = score\n",
    "                    for _, model_score in model_all_values:\n",
    "                        b[i] = model_score\n",
    "            i=i+1\n",
    "            rho, _ = stats.spearmanr(a, b, axis = None)\n",
    "            val, _ = stats.pearsonr(a, b)\n",
    "        print(item[0], ' vs. ', comp_item[0], ' ~ Spearman Correlation: ', rho)\n",
    "        print(item[0], ' vs. ', comp_item[0], ' ~ Pearson Correlation: ', val)\n",
    "    print(\"Comparing against \", item[0], \" for all models took \", time.time() - start_time, \" seconds.\\n\")"
   ]
  }
 ],
 "metadata": {
  "kernelspec": {
   "display_name": "Python 3",
   "language": "python",
   "name": "python3"
  },
  "language_info": {
   "codemirror_mode": {
    "name": "ipython",
    "version": 3
   },
   "file_extension": ".py",
   "mimetype": "text/x-python",
   "name": "python",
   "nbconvert_exporter": "python",
   "pygments_lexer": "ipython3",
   "version": "3.6.3"
  }
 },
 "nbformat": 4,
 "nbformat_minor": 2
}
